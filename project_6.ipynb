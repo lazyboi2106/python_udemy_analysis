{
 "cells": [
  {
   "cell_type": "code",
   "execution_count": 5,
   "id": "50330d71",
   "metadata": {},
   "outputs": [],
   "source": [
    "import pandas as pd\n",
    "import numpy as np\n",
    "import matplotlib.pyplot as plt\n",
    "import seaborn as sns"
   ]
  },
  {
   "cell_type": "code",
   "execution_count": 6,
   "id": "eefa7b7a",
   "metadata": {},
   "outputs": [],
   "source": [
    "data = pd.read_csv(r\"C:\\Users\\danny\\OneDrive\\Desktop\\datasets\\udemy_courses.csv\",parse_dates=['published_timestamp'])"
   ]
  },
  {
   "cell_type": "code",
   "execution_count": 7,
   "id": "93359c84",
   "metadata": {},
   "outputs": [
    {
     "data": {
      "text/html": [
       "<div>\n",
       "<style scoped>\n",
       "    .dataframe tbody tr th:only-of-type {\n",
       "        vertical-align: middle;\n",
       "    }\n",
       "\n",
       "    .dataframe tbody tr th {\n",
       "        vertical-align: top;\n",
       "    }\n",
       "\n",
       "    .dataframe thead th {\n",
       "        text-align: right;\n",
       "    }\n",
       "</style>\n",
       "<table border=\"1\" class=\"dataframe\">\n",
       "  <thead>\n",
       "    <tr style=\"text-align: right;\">\n",
       "      <th></th>\n",
       "      <th>course_id</th>\n",
       "      <th>course_title</th>\n",
       "      <th>url</th>\n",
       "      <th>is_paid</th>\n",
       "      <th>price</th>\n",
       "      <th>num_subscribers</th>\n",
       "      <th>num_reviews</th>\n",
       "      <th>num_lectures</th>\n",
       "      <th>level</th>\n",
       "      <th>content_duration</th>\n",
       "      <th>published_timestamp</th>\n",
       "      <th>subject</th>\n",
       "    </tr>\n",
       "  </thead>\n",
       "  <tbody>\n",
       "    <tr>\n",
       "      <th>0</th>\n",
       "      <td>1070968</td>\n",
       "      <td>Ultimate Investment Banking Course</td>\n",
       "      <td>https://www.udemy.com/ultimate-investment-bank...</td>\n",
       "      <td>True</td>\n",
       "      <td>200</td>\n",
       "      <td>2147</td>\n",
       "      <td>23</td>\n",
       "      <td>51</td>\n",
       "      <td>All Levels</td>\n",
       "      <td>1.5</td>\n",
       "      <td>2017-01-18 20:58:58+00:00</td>\n",
       "      <td>Business Finance</td>\n",
       "    </tr>\n",
       "    <tr>\n",
       "      <th>1</th>\n",
       "      <td>1113822</td>\n",
       "      <td>Complete GST Course &amp; Certification - Grow You...</td>\n",
       "      <td>https://www.udemy.com/goods-and-services-tax/</td>\n",
       "      <td>True</td>\n",
       "      <td>75</td>\n",
       "      <td>2792</td>\n",
       "      <td>923</td>\n",
       "      <td>274</td>\n",
       "      <td>All Levels</td>\n",
       "      <td>39.0</td>\n",
       "      <td>2017-03-09 16:34:20+00:00</td>\n",
       "      <td>Business Finance</td>\n",
       "    </tr>\n",
       "    <tr>\n",
       "      <th>2</th>\n",
       "      <td>1006314</td>\n",
       "      <td>Financial Modeling for Business Analysts and C...</td>\n",
       "      <td>https://www.udemy.com/financial-modeling-for-b...</td>\n",
       "      <td>True</td>\n",
       "      <td>45</td>\n",
       "      <td>2174</td>\n",
       "      <td>74</td>\n",
       "      <td>51</td>\n",
       "      <td>Intermediate Level</td>\n",
       "      <td>2.5</td>\n",
       "      <td>2016-12-19 19:26:30+00:00</td>\n",
       "      <td>Business Finance</td>\n",
       "    </tr>\n",
       "    <tr>\n",
       "      <th>3</th>\n",
       "      <td>1210588</td>\n",
       "      <td>Beginner to Pro - Financial Analysis in Excel ...</td>\n",
       "      <td>https://www.udemy.com/complete-excel-finance-c...</td>\n",
       "      <td>True</td>\n",
       "      <td>95</td>\n",
       "      <td>2451</td>\n",
       "      <td>11</td>\n",
       "      <td>36</td>\n",
       "      <td>All Levels</td>\n",
       "      <td>3.0</td>\n",
       "      <td>2017-05-30 20:07:24+00:00</td>\n",
       "      <td>Business Finance</td>\n",
       "    </tr>\n",
       "    <tr>\n",
       "      <th>4</th>\n",
       "      <td>1011058</td>\n",
       "      <td>How To Maximize Your Profits Trading Options</td>\n",
       "      <td>https://www.udemy.com/how-to-maximize-your-pro...</td>\n",
       "      <td>True</td>\n",
       "      <td>200</td>\n",
       "      <td>1276</td>\n",
       "      <td>45</td>\n",
       "      <td>26</td>\n",
       "      <td>Intermediate Level</td>\n",
       "      <td>2.0</td>\n",
       "      <td>2016-12-13 14:57:18+00:00</td>\n",
       "      <td>Business Finance</td>\n",
       "    </tr>\n",
       "    <tr>\n",
       "      <th>...</th>\n",
       "      <td>...</td>\n",
       "      <td>...</td>\n",
       "      <td>...</td>\n",
       "      <td>...</td>\n",
       "      <td>...</td>\n",
       "      <td>...</td>\n",
       "      <td>...</td>\n",
       "      <td>...</td>\n",
       "      <td>...</td>\n",
       "      <td>...</td>\n",
       "      <td>...</td>\n",
       "      <td>...</td>\n",
       "    </tr>\n",
       "    <tr>\n",
       "      <th>3673</th>\n",
       "      <td>775618</td>\n",
       "      <td>Learn jQuery from Scratch - Master of JavaScri...</td>\n",
       "      <td>https://www.udemy.com/easy-jquery-for-beginner...</td>\n",
       "      <td>True</td>\n",
       "      <td>100</td>\n",
       "      <td>1040</td>\n",
       "      <td>14</td>\n",
       "      <td>21</td>\n",
       "      <td>All Levels</td>\n",
       "      <td>2.0</td>\n",
       "      <td>2016-06-14 17:36:46+00:00</td>\n",
       "      <td>Web Development</td>\n",
       "    </tr>\n",
       "    <tr>\n",
       "      <th>3674</th>\n",
       "      <td>1088178</td>\n",
       "      <td>How To Design A WordPress Website With No Codi...</td>\n",
       "      <td>https://www.udemy.com/how-to-make-a-wordpress-...</td>\n",
       "      <td>True</td>\n",
       "      <td>25</td>\n",
       "      <td>306</td>\n",
       "      <td>3</td>\n",
       "      <td>42</td>\n",
       "      <td>Beginner Level</td>\n",
       "      <td>3.5</td>\n",
       "      <td>2017-03-10 22:24:30+00:00</td>\n",
       "      <td>Web Development</td>\n",
       "    </tr>\n",
       "    <tr>\n",
       "      <th>3675</th>\n",
       "      <td>635248</td>\n",
       "      <td>Learn and Build using Polymer</td>\n",
       "      <td>https://www.udemy.com/learn-and-build-using-po...</td>\n",
       "      <td>True</td>\n",
       "      <td>40</td>\n",
       "      <td>513</td>\n",
       "      <td>169</td>\n",
       "      <td>48</td>\n",
       "      <td>All Levels</td>\n",
       "      <td>3.5</td>\n",
       "      <td>2015-12-30 16:41:42+00:00</td>\n",
       "      <td>Web Development</td>\n",
       "    </tr>\n",
       "    <tr>\n",
       "      <th>3676</th>\n",
       "      <td>905096</td>\n",
       "      <td>CSS Animations: Create Amazing Effects on Your...</td>\n",
       "      <td>https://www.udemy.com/css-animations-create-am...</td>\n",
       "      <td>True</td>\n",
       "      <td>50</td>\n",
       "      <td>300</td>\n",
       "      <td>31</td>\n",
       "      <td>38</td>\n",
       "      <td>All Levels</td>\n",
       "      <td>3.0</td>\n",
       "      <td>2016-08-11 19:06:15+00:00</td>\n",
       "      <td>Web Development</td>\n",
       "    </tr>\n",
       "    <tr>\n",
       "      <th>3677</th>\n",
       "      <td>297602</td>\n",
       "      <td>Using MODX CMS to Build Websites: A Beginner's...</td>\n",
       "      <td>https://www.udemy.com/using-modx-cms-to-build-...</td>\n",
       "      <td>True</td>\n",
       "      <td>45</td>\n",
       "      <td>901</td>\n",
       "      <td>36</td>\n",
       "      <td>20</td>\n",
       "      <td>Beginner Level</td>\n",
       "      <td>2.0</td>\n",
       "      <td>2014-09-28 19:51:11+00:00</td>\n",
       "      <td>Web Development</td>\n",
       "    </tr>\n",
       "  </tbody>\n",
       "</table>\n",
       "<p>3678 rows × 12 columns</p>\n",
       "</div>"
      ],
      "text/plain": [
       "      course_id                                       course_title  \\\n",
       "0       1070968                 Ultimate Investment Banking Course   \n",
       "1       1113822  Complete GST Course & Certification - Grow You...   \n",
       "2       1006314  Financial Modeling for Business Analysts and C...   \n",
       "3       1210588  Beginner to Pro - Financial Analysis in Excel ...   \n",
       "4       1011058       How To Maximize Your Profits Trading Options   \n",
       "...         ...                                                ...   \n",
       "3673     775618  Learn jQuery from Scratch - Master of JavaScri...   \n",
       "3674    1088178  How To Design A WordPress Website With No Codi...   \n",
       "3675     635248                      Learn and Build using Polymer   \n",
       "3676     905096  CSS Animations: Create Amazing Effects on Your...   \n",
       "3677     297602  Using MODX CMS to Build Websites: A Beginner's...   \n",
       "\n",
       "                                                    url  is_paid  price  \\\n",
       "0     https://www.udemy.com/ultimate-investment-bank...     True    200   \n",
       "1         https://www.udemy.com/goods-and-services-tax/     True     75   \n",
       "2     https://www.udemy.com/financial-modeling-for-b...     True     45   \n",
       "3     https://www.udemy.com/complete-excel-finance-c...     True     95   \n",
       "4     https://www.udemy.com/how-to-maximize-your-pro...     True    200   \n",
       "...                                                 ...      ...    ...   \n",
       "3673  https://www.udemy.com/easy-jquery-for-beginner...     True    100   \n",
       "3674  https://www.udemy.com/how-to-make-a-wordpress-...     True     25   \n",
       "3675  https://www.udemy.com/learn-and-build-using-po...     True     40   \n",
       "3676  https://www.udemy.com/css-animations-create-am...     True     50   \n",
       "3677  https://www.udemy.com/using-modx-cms-to-build-...     True     45   \n",
       "\n",
       "      num_subscribers  num_reviews  num_lectures               level  \\\n",
       "0                2147           23            51          All Levels   \n",
       "1                2792          923           274          All Levels   \n",
       "2                2174           74            51  Intermediate Level   \n",
       "3                2451           11            36          All Levels   \n",
       "4                1276           45            26  Intermediate Level   \n",
       "...               ...          ...           ...                 ...   \n",
       "3673             1040           14            21          All Levels   \n",
       "3674              306            3            42      Beginner Level   \n",
       "3675              513          169            48          All Levels   \n",
       "3676              300           31            38          All Levels   \n",
       "3677              901           36            20      Beginner Level   \n",
       "\n",
       "      content_duration       published_timestamp           subject  \n",
       "0                  1.5 2017-01-18 20:58:58+00:00  Business Finance  \n",
       "1                 39.0 2017-03-09 16:34:20+00:00  Business Finance  \n",
       "2                  2.5 2016-12-19 19:26:30+00:00  Business Finance  \n",
       "3                  3.0 2017-05-30 20:07:24+00:00  Business Finance  \n",
       "4                  2.0 2016-12-13 14:57:18+00:00  Business Finance  \n",
       "...                ...                       ...               ...  \n",
       "3673               2.0 2016-06-14 17:36:46+00:00   Web Development  \n",
       "3674               3.5 2017-03-10 22:24:30+00:00   Web Development  \n",
       "3675               3.5 2015-12-30 16:41:42+00:00   Web Development  \n",
       "3676               3.0 2016-08-11 19:06:15+00:00   Web Development  \n",
       "3677               2.0 2014-09-28 19:51:11+00:00   Web Development  \n",
       "\n",
       "[3678 rows x 12 columns]"
      ]
     },
     "execution_count": 7,
     "metadata": {},
     "output_type": "execute_result"
    }
   ],
   "source": [
    "data"
   ]
  },
  {
   "cell_type": "code",
   "execution_count": 8,
   "id": "2e381165",
   "metadata": {},
   "outputs": [
    {
     "data": {
      "text/html": [
       "<div>\n",
       "<style scoped>\n",
       "    .dataframe tbody tr th:only-of-type {\n",
       "        vertical-align: middle;\n",
       "    }\n",
       "\n",
       "    .dataframe tbody tr th {\n",
       "        vertical-align: top;\n",
       "    }\n",
       "\n",
       "    .dataframe thead th {\n",
       "        text-align: right;\n",
       "    }\n",
       "</style>\n",
       "<table border=\"1\" class=\"dataframe\">\n",
       "  <thead>\n",
       "    <tr style=\"text-align: right;\">\n",
       "      <th></th>\n",
       "      <th>course_id</th>\n",
       "      <th>course_title</th>\n",
       "      <th>url</th>\n",
       "      <th>is_paid</th>\n",
       "      <th>price</th>\n",
       "      <th>num_subscribers</th>\n",
       "      <th>num_reviews</th>\n",
       "      <th>num_lectures</th>\n",
       "      <th>level</th>\n",
       "      <th>content_duration</th>\n",
       "      <th>published_timestamp</th>\n",
       "      <th>subject</th>\n",
       "    </tr>\n",
       "  </thead>\n",
       "  <tbody>\n",
       "    <tr>\n",
       "      <th>0</th>\n",
       "      <td>1070968</td>\n",
       "      <td>Ultimate Investment Banking Course</td>\n",
       "      <td>https://www.udemy.com/ultimate-investment-bank...</td>\n",
       "      <td>True</td>\n",
       "      <td>200</td>\n",
       "      <td>2147</td>\n",
       "      <td>23</td>\n",
       "      <td>51</td>\n",
       "      <td>All Levels</td>\n",
       "      <td>1.5</td>\n",
       "      <td>2017-01-18 20:58:58+00:00</td>\n",
       "      <td>Business Finance</td>\n",
       "    </tr>\n",
       "    <tr>\n",
       "      <th>1</th>\n",
       "      <td>1113822</td>\n",
       "      <td>Complete GST Course &amp; Certification - Grow You...</td>\n",
       "      <td>https://www.udemy.com/goods-and-services-tax/</td>\n",
       "      <td>True</td>\n",
       "      <td>75</td>\n",
       "      <td>2792</td>\n",
       "      <td>923</td>\n",
       "      <td>274</td>\n",
       "      <td>All Levels</td>\n",
       "      <td>39.0</td>\n",
       "      <td>2017-03-09 16:34:20+00:00</td>\n",
       "      <td>Business Finance</td>\n",
       "    </tr>\n",
       "    <tr>\n",
       "      <th>2</th>\n",
       "      <td>1006314</td>\n",
       "      <td>Financial Modeling for Business Analysts and C...</td>\n",
       "      <td>https://www.udemy.com/financial-modeling-for-b...</td>\n",
       "      <td>True</td>\n",
       "      <td>45</td>\n",
       "      <td>2174</td>\n",
       "      <td>74</td>\n",
       "      <td>51</td>\n",
       "      <td>Intermediate Level</td>\n",
       "      <td>2.5</td>\n",
       "      <td>2016-12-19 19:26:30+00:00</td>\n",
       "      <td>Business Finance</td>\n",
       "    </tr>\n",
       "    <tr>\n",
       "      <th>3</th>\n",
       "      <td>1210588</td>\n",
       "      <td>Beginner to Pro - Financial Analysis in Excel ...</td>\n",
       "      <td>https://www.udemy.com/complete-excel-finance-c...</td>\n",
       "      <td>True</td>\n",
       "      <td>95</td>\n",
       "      <td>2451</td>\n",
       "      <td>11</td>\n",
       "      <td>36</td>\n",
       "      <td>All Levels</td>\n",
       "      <td>3.0</td>\n",
       "      <td>2017-05-30 20:07:24+00:00</td>\n",
       "      <td>Business Finance</td>\n",
       "    </tr>\n",
       "    <tr>\n",
       "      <th>4</th>\n",
       "      <td>1011058</td>\n",
       "      <td>How To Maximize Your Profits Trading Options</td>\n",
       "      <td>https://www.udemy.com/how-to-maximize-your-pro...</td>\n",
       "      <td>True</td>\n",
       "      <td>200</td>\n",
       "      <td>1276</td>\n",
       "      <td>45</td>\n",
       "      <td>26</td>\n",
       "      <td>Intermediate Level</td>\n",
       "      <td>2.0</td>\n",
       "      <td>2016-12-13 14:57:18+00:00</td>\n",
       "      <td>Business Finance</td>\n",
       "    </tr>\n",
       "    <tr>\n",
       "      <th>5</th>\n",
       "      <td>192870</td>\n",
       "      <td>Trading Penny Stocks: A Guide for All Levels I...</td>\n",
       "      <td>https://www.udemy.com/trading-penny-stocks-a-g...</td>\n",
       "      <td>True</td>\n",
       "      <td>150</td>\n",
       "      <td>9221</td>\n",
       "      <td>138</td>\n",
       "      <td>25</td>\n",
       "      <td>All Levels</td>\n",
       "      <td>3.0</td>\n",
       "      <td>2014-05-02 15:13:30+00:00</td>\n",
       "      <td>Business Finance</td>\n",
       "    </tr>\n",
       "    <tr>\n",
       "      <th>6</th>\n",
       "      <td>739964</td>\n",
       "      <td>Investing And Trading For Beginners: Mastering...</td>\n",
       "      <td>https://www.udemy.com/investing-and-trading-fo...</td>\n",
       "      <td>True</td>\n",
       "      <td>65</td>\n",
       "      <td>1540</td>\n",
       "      <td>178</td>\n",
       "      <td>26</td>\n",
       "      <td>Beginner Level</td>\n",
       "      <td>1.0</td>\n",
       "      <td>2016-02-21 18:23:12+00:00</td>\n",
       "      <td>Business Finance</td>\n",
       "    </tr>\n",
       "    <tr>\n",
       "      <th>7</th>\n",
       "      <td>403100</td>\n",
       "      <td>Trading Stock Chart Patterns For Immediate, Ex...</td>\n",
       "      <td>https://www.udemy.com/trading-chart-patterns-f...</td>\n",
       "      <td>True</td>\n",
       "      <td>95</td>\n",
       "      <td>2917</td>\n",
       "      <td>148</td>\n",
       "      <td>23</td>\n",
       "      <td>All Levels</td>\n",
       "      <td>2.5</td>\n",
       "      <td>2015-01-30 22:13:03+00:00</td>\n",
       "      <td>Business Finance</td>\n",
       "    </tr>\n",
       "    <tr>\n",
       "      <th>8</th>\n",
       "      <td>476268</td>\n",
       "      <td>Options Trading 3 : Advanced Stock Profit and ...</td>\n",
       "      <td>https://www.udemy.com/day-trading-stock-option...</td>\n",
       "      <td>True</td>\n",
       "      <td>195</td>\n",
       "      <td>5172</td>\n",
       "      <td>34</td>\n",
       "      <td>38</td>\n",
       "      <td>Expert Level</td>\n",
       "      <td>2.5</td>\n",
       "      <td>2015-05-28 00:14:03+00:00</td>\n",
       "      <td>Business Finance</td>\n",
       "    </tr>\n",
       "    <tr>\n",
       "      <th>9</th>\n",
       "      <td>1167710</td>\n",
       "      <td>The Only Investment Strategy You Need For Your...</td>\n",
       "      <td>https://www.udemy.com/the-only-investment-stra...</td>\n",
       "      <td>True</td>\n",
       "      <td>200</td>\n",
       "      <td>827</td>\n",
       "      <td>14</td>\n",
       "      <td>15</td>\n",
       "      <td>All Levels</td>\n",
       "      <td>1.0</td>\n",
       "      <td>2017-04-18 18:13:32+00:00</td>\n",
       "      <td>Business Finance</td>\n",
       "    </tr>\n",
       "  </tbody>\n",
       "</table>\n",
       "</div>"
      ],
      "text/plain": [
       "   course_id                                       course_title  \\\n",
       "0    1070968                 Ultimate Investment Banking Course   \n",
       "1    1113822  Complete GST Course & Certification - Grow You...   \n",
       "2    1006314  Financial Modeling for Business Analysts and C...   \n",
       "3    1210588  Beginner to Pro - Financial Analysis in Excel ...   \n",
       "4    1011058       How To Maximize Your Profits Trading Options   \n",
       "5     192870  Trading Penny Stocks: A Guide for All Levels I...   \n",
       "6     739964  Investing And Trading For Beginners: Mastering...   \n",
       "7     403100  Trading Stock Chart Patterns For Immediate, Ex...   \n",
       "8     476268  Options Trading 3 : Advanced Stock Profit and ...   \n",
       "9    1167710  The Only Investment Strategy You Need For Your...   \n",
       "\n",
       "                                                 url  is_paid  price  \\\n",
       "0  https://www.udemy.com/ultimate-investment-bank...     True    200   \n",
       "1      https://www.udemy.com/goods-and-services-tax/     True     75   \n",
       "2  https://www.udemy.com/financial-modeling-for-b...     True     45   \n",
       "3  https://www.udemy.com/complete-excel-finance-c...     True     95   \n",
       "4  https://www.udemy.com/how-to-maximize-your-pro...     True    200   \n",
       "5  https://www.udemy.com/trading-penny-stocks-a-g...     True    150   \n",
       "6  https://www.udemy.com/investing-and-trading-fo...     True     65   \n",
       "7  https://www.udemy.com/trading-chart-patterns-f...     True     95   \n",
       "8  https://www.udemy.com/day-trading-stock-option...     True    195   \n",
       "9  https://www.udemy.com/the-only-investment-stra...     True    200   \n",
       "\n",
       "   num_subscribers  num_reviews  num_lectures               level  \\\n",
       "0             2147           23            51          All Levels   \n",
       "1             2792          923           274          All Levels   \n",
       "2             2174           74            51  Intermediate Level   \n",
       "3             2451           11            36          All Levels   \n",
       "4             1276           45            26  Intermediate Level   \n",
       "5             9221          138            25          All Levels   \n",
       "6             1540          178            26      Beginner Level   \n",
       "7             2917          148            23          All Levels   \n",
       "8             5172           34            38        Expert Level   \n",
       "9              827           14            15          All Levels   \n",
       "\n",
       "   content_duration       published_timestamp           subject  \n",
       "0               1.5 2017-01-18 20:58:58+00:00  Business Finance  \n",
       "1              39.0 2017-03-09 16:34:20+00:00  Business Finance  \n",
       "2               2.5 2016-12-19 19:26:30+00:00  Business Finance  \n",
       "3               3.0 2017-05-30 20:07:24+00:00  Business Finance  \n",
       "4               2.0 2016-12-13 14:57:18+00:00  Business Finance  \n",
       "5               3.0 2014-05-02 15:13:30+00:00  Business Finance  \n",
       "6               1.0 2016-02-21 18:23:12+00:00  Business Finance  \n",
       "7               2.5 2015-01-30 22:13:03+00:00  Business Finance  \n",
       "8               2.5 2015-05-28 00:14:03+00:00  Business Finance  \n",
       "9               1.0 2017-04-18 18:13:32+00:00  Business Finance  "
      ]
     },
     "execution_count": 8,
     "metadata": {},
     "output_type": "execute_result"
    }
   ],
   "source": [
    "data.head(10)"
   ]
  },
  {
   "cell_type": "code",
   "execution_count": 9,
   "id": "8d848435",
   "metadata": {
    "scrolled": true
   },
   "outputs": [
    {
     "data": {
      "text/html": [
       "<div>\n",
       "<style scoped>\n",
       "    .dataframe tbody tr th:only-of-type {\n",
       "        vertical-align: middle;\n",
       "    }\n",
       "\n",
       "    .dataframe tbody tr th {\n",
       "        vertical-align: top;\n",
       "    }\n",
       "\n",
       "    .dataframe thead th {\n",
       "        text-align: right;\n",
       "    }\n",
       "</style>\n",
       "<table border=\"1\" class=\"dataframe\">\n",
       "  <thead>\n",
       "    <tr style=\"text-align: right;\">\n",
       "      <th></th>\n",
       "      <th>course_id</th>\n",
       "      <th>course_title</th>\n",
       "      <th>url</th>\n",
       "      <th>is_paid</th>\n",
       "      <th>price</th>\n",
       "      <th>num_subscribers</th>\n",
       "      <th>num_reviews</th>\n",
       "      <th>num_lectures</th>\n",
       "      <th>level</th>\n",
       "      <th>content_duration</th>\n",
       "      <th>published_timestamp</th>\n",
       "      <th>subject</th>\n",
       "    </tr>\n",
       "  </thead>\n",
       "  <tbody>\n",
       "    <tr>\n",
       "      <th>3673</th>\n",
       "      <td>775618</td>\n",
       "      <td>Learn jQuery from Scratch - Master of JavaScri...</td>\n",
       "      <td>https://www.udemy.com/easy-jquery-for-beginner...</td>\n",
       "      <td>True</td>\n",
       "      <td>100</td>\n",
       "      <td>1040</td>\n",
       "      <td>14</td>\n",
       "      <td>21</td>\n",
       "      <td>All Levels</td>\n",
       "      <td>2.0</td>\n",
       "      <td>2016-06-14 17:36:46+00:00</td>\n",
       "      <td>Web Development</td>\n",
       "    </tr>\n",
       "    <tr>\n",
       "      <th>3674</th>\n",
       "      <td>1088178</td>\n",
       "      <td>How To Design A WordPress Website With No Codi...</td>\n",
       "      <td>https://www.udemy.com/how-to-make-a-wordpress-...</td>\n",
       "      <td>True</td>\n",
       "      <td>25</td>\n",
       "      <td>306</td>\n",
       "      <td>3</td>\n",
       "      <td>42</td>\n",
       "      <td>Beginner Level</td>\n",
       "      <td>3.5</td>\n",
       "      <td>2017-03-10 22:24:30+00:00</td>\n",
       "      <td>Web Development</td>\n",
       "    </tr>\n",
       "    <tr>\n",
       "      <th>3675</th>\n",
       "      <td>635248</td>\n",
       "      <td>Learn and Build using Polymer</td>\n",
       "      <td>https://www.udemy.com/learn-and-build-using-po...</td>\n",
       "      <td>True</td>\n",
       "      <td>40</td>\n",
       "      <td>513</td>\n",
       "      <td>169</td>\n",
       "      <td>48</td>\n",
       "      <td>All Levels</td>\n",
       "      <td>3.5</td>\n",
       "      <td>2015-12-30 16:41:42+00:00</td>\n",
       "      <td>Web Development</td>\n",
       "    </tr>\n",
       "    <tr>\n",
       "      <th>3676</th>\n",
       "      <td>905096</td>\n",
       "      <td>CSS Animations: Create Amazing Effects on Your...</td>\n",
       "      <td>https://www.udemy.com/css-animations-create-am...</td>\n",
       "      <td>True</td>\n",
       "      <td>50</td>\n",
       "      <td>300</td>\n",
       "      <td>31</td>\n",
       "      <td>38</td>\n",
       "      <td>All Levels</td>\n",
       "      <td>3.0</td>\n",
       "      <td>2016-08-11 19:06:15+00:00</td>\n",
       "      <td>Web Development</td>\n",
       "    </tr>\n",
       "    <tr>\n",
       "      <th>3677</th>\n",
       "      <td>297602</td>\n",
       "      <td>Using MODX CMS to Build Websites: A Beginner's...</td>\n",
       "      <td>https://www.udemy.com/using-modx-cms-to-build-...</td>\n",
       "      <td>True</td>\n",
       "      <td>45</td>\n",
       "      <td>901</td>\n",
       "      <td>36</td>\n",
       "      <td>20</td>\n",
       "      <td>Beginner Level</td>\n",
       "      <td>2.0</td>\n",
       "      <td>2014-09-28 19:51:11+00:00</td>\n",
       "      <td>Web Development</td>\n",
       "    </tr>\n",
       "  </tbody>\n",
       "</table>\n",
       "</div>"
      ],
      "text/plain": [
       "      course_id                                       course_title  \\\n",
       "3673     775618  Learn jQuery from Scratch - Master of JavaScri...   \n",
       "3674    1088178  How To Design A WordPress Website With No Codi...   \n",
       "3675     635248                      Learn and Build using Polymer   \n",
       "3676     905096  CSS Animations: Create Amazing Effects on Your...   \n",
       "3677     297602  Using MODX CMS to Build Websites: A Beginner's...   \n",
       "\n",
       "                                                    url  is_paid  price  \\\n",
       "3673  https://www.udemy.com/easy-jquery-for-beginner...     True    100   \n",
       "3674  https://www.udemy.com/how-to-make-a-wordpress-...     True     25   \n",
       "3675  https://www.udemy.com/learn-and-build-using-po...     True     40   \n",
       "3676  https://www.udemy.com/css-animations-create-am...     True     50   \n",
       "3677  https://www.udemy.com/using-modx-cms-to-build-...     True     45   \n",
       "\n",
       "      num_subscribers  num_reviews  num_lectures           level  \\\n",
       "3673             1040           14            21      All Levels   \n",
       "3674              306            3            42  Beginner Level   \n",
       "3675              513          169            48      All Levels   \n",
       "3676              300           31            38      All Levels   \n",
       "3677              901           36            20  Beginner Level   \n",
       "\n",
       "      content_duration       published_timestamp          subject  \n",
       "3673               2.0 2016-06-14 17:36:46+00:00  Web Development  \n",
       "3674               3.5 2017-03-10 22:24:30+00:00  Web Development  \n",
       "3675               3.5 2015-12-30 16:41:42+00:00  Web Development  \n",
       "3676               3.0 2016-08-11 19:06:15+00:00  Web Development  \n",
       "3677               2.0 2014-09-28 19:51:11+00:00  Web Development  "
      ]
     },
     "execution_count": 9,
     "metadata": {},
     "output_type": "execute_result"
    }
   ],
   "source": [
    "data.tail()"
   ]
  },
  {
   "cell_type": "code",
   "execution_count": 10,
   "id": "52328c56",
   "metadata": {},
   "outputs": [
    {
     "name": "stdout",
     "output_type": "stream",
     "text": [
      "No of Rows:  3678\n",
      "No of Columns:  12\n"
     ]
    }
   ],
   "source": [
    "print(\"No of Rows: \",data.shape[0])\n",
    "print(\"No of Columns: \",data.shape[1])"
   ]
  },
  {
   "cell_type": "code",
   "execution_count": 11,
   "id": "02ba8c29",
   "metadata": {},
   "outputs": [
    {
     "name": "stdout",
     "output_type": "stream",
     "text": [
      "<class 'pandas.core.frame.DataFrame'>\n",
      "RangeIndex: 3678 entries, 0 to 3677\n",
      "Data columns (total 12 columns):\n",
      " #   Column               Non-Null Count  Dtype              \n",
      "---  ------               --------------  -----              \n",
      " 0   course_id            3678 non-null   int64              \n",
      " 1   course_title         3678 non-null   object             \n",
      " 2   url                  3678 non-null   object             \n",
      " 3   is_paid              3678 non-null   bool               \n",
      " 4   price                3678 non-null   int64              \n",
      " 5   num_subscribers      3678 non-null   int64              \n",
      " 6   num_reviews          3678 non-null   int64              \n",
      " 7   num_lectures         3678 non-null   int64              \n",
      " 8   level                3678 non-null   object             \n",
      " 9   content_duration     3678 non-null   float64            \n",
      " 10  published_timestamp  3678 non-null   datetime64[ns, UTC]\n",
      " 11  subject              3678 non-null   object             \n",
      "dtypes: bool(1), datetime64[ns, UTC](1), float64(1), int64(5), object(4)\n",
      "memory usage: 319.8+ KB\n"
     ]
    }
   ],
   "source": [
    "data.info()"
   ]
  },
  {
   "cell_type": "code",
   "execution_count": 12,
   "id": "57ecac16",
   "metadata": {},
   "outputs": [
    {
     "data": {
      "text/plain": [
       "course_id              0\n",
       "course_title           0\n",
       "url                    0\n",
       "is_paid                0\n",
       "price                  0\n",
       "num_subscribers        0\n",
       "num_reviews            0\n",
       "num_lectures           0\n",
       "level                  0\n",
       "content_duration       0\n",
       "published_timestamp    0\n",
       "subject                0\n",
       "dtype: int64"
      ]
     },
     "execution_count": 12,
     "metadata": {},
     "output_type": "execute_result"
    }
   ],
   "source": [
    "data.isnull().sum()"
   ]
  },
  {
   "cell_type": "code",
   "execution_count": 13,
   "id": "026bfdee",
   "metadata": {},
   "outputs": [
    {
     "data": {
      "text/plain": [
       "True"
      ]
     },
     "execution_count": 13,
     "metadata": {},
     "output_type": "execute_result"
    }
   ],
   "source": [
    "data.duplicated().any()"
   ]
  },
  {
   "cell_type": "code",
   "execution_count": 14,
   "id": "49d27ab4",
   "metadata": {},
   "outputs": [],
   "source": [
    "data = data.drop_duplicates()"
   ]
  },
  {
   "cell_type": "code",
   "execution_count": 15,
   "id": "39f8c8a4",
   "metadata": {},
   "outputs": [
    {
     "data": {
      "text/plain": [
       "False"
      ]
     },
     "execution_count": 15,
     "metadata": {},
     "output_type": "execute_result"
    }
   ],
   "source": [
    "data.duplicated().any()"
   ]
  },
  {
   "cell_type": "code",
   "execution_count": 16,
   "id": "83955426",
   "metadata": {},
   "outputs": [
    {
     "data": {
      "text/plain": [
       "(3672, 12)"
      ]
     },
     "execution_count": 16,
     "metadata": {},
     "output_type": "execute_result"
    }
   ],
   "source": [
    "data.shape"
   ]
  },
  {
   "cell_type": "code",
   "execution_count": 17,
   "id": "ace6bd48",
   "metadata": {},
   "outputs": [
    {
     "data": {
      "text/plain": [
       "Index(['course_id', 'course_title', 'url', 'is_paid', 'price',\n",
       "       'num_subscribers', 'num_reviews', 'num_lectures', 'level',\n",
       "       'content_duration', 'published_timestamp', 'subject'],\n",
       "      dtype='object')"
      ]
     },
     "execution_count": 17,
     "metadata": {},
     "output_type": "execute_result"
    }
   ],
   "source": [
    "data.columns"
   ]
  },
  {
   "cell_type": "code",
   "execution_count": 18,
   "id": "1bb1d7a8",
   "metadata": {},
   "outputs": [
    {
     "data": {
      "text/html": [
       "<div>\n",
       "<style scoped>\n",
       "    .dataframe tbody tr th:only-of-type {\n",
       "        vertical-align: middle;\n",
       "    }\n",
       "\n",
       "    .dataframe tbody tr th {\n",
       "        vertical-align: top;\n",
       "    }\n",
       "\n",
       "    .dataframe thead th {\n",
       "        text-align: right;\n",
       "    }\n",
       "</style>\n",
       "<table border=\"1\" class=\"dataframe\">\n",
       "  <thead>\n",
       "    <tr style=\"text-align: right;\">\n",
       "      <th></th>\n",
       "      <th>course_id</th>\n",
       "      <th>course_title</th>\n",
       "      <th>url</th>\n",
       "      <th>is_paid</th>\n",
       "      <th>price</th>\n",
       "      <th>num_subscribers</th>\n",
       "      <th>num_reviews</th>\n",
       "      <th>num_lectures</th>\n",
       "      <th>level</th>\n",
       "      <th>content_duration</th>\n",
       "      <th>published_timestamp</th>\n",
       "    </tr>\n",
       "    <tr>\n",
       "      <th>subject</th>\n",
       "      <th></th>\n",
       "      <th></th>\n",
       "      <th></th>\n",
       "      <th></th>\n",
       "      <th></th>\n",
       "      <th></th>\n",
       "      <th></th>\n",
       "      <th></th>\n",
       "      <th></th>\n",
       "      <th></th>\n",
       "      <th></th>\n",
       "    </tr>\n",
       "  </thead>\n",
       "  <tbody>\n",
       "    <tr>\n",
       "      <th>Business Finance</th>\n",
       "      <td>1191</td>\n",
       "      <td>1191</td>\n",
       "      <td>1191</td>\n",
       "      <td>1191</td>\n",
       "      <td>1191</td>\n",
       "      <td>1191</td>\n",
       "      <td>1191</td>\n",
       "      <td>1191</td>\n",
       "      <td>1191</td>\n",
       "      <td>1191</td>\n",
       "      <td>1191</td>\n",
       "    </tr>\n",
       "    <tr>\n",
       "      <th>Graphic Design</th>\n",
       "      <td>602</td>\n",
       "      <td>602</td>\n",
       "      <td>602</td>\n",
       "      <td>602</td>\n",
       "      <td>602</td>\n",
       "      <td>602</td>\n",
       "      <td>602</td>\n",
       "      <td>602</td>\n",
       "      <td>602</td>\n",
       "      <td>602</td>\n",
       "      <td>602</td>\n",
       "    </tr>\n",
       "    <tr>\n",
       "      <th>Musical Instruments</th>\n",
       "      <td>680</td>\n",
       "      <td>680</td>\n",
       "      <td>680</td>\n",
       "      <td>680</td>\n",
       "      <td>680</td>\n",
       "      <td>680</td>\n",
       "      <td>680</td>\n",
       "      <td>680</td>\n",
       "      <td>680</td>\n",
       "      <td>680</td>\n",
       "      <td>680</td>\n",
       "    </tr>\n",
       "    <tr>\n",
       "      <th>Web Development</th>\n",
       "      <td>1199</td>\n",
       "      <td>1199</td>\n",
       "      <td>1199</td>\n",
       "      <td>1199</td>\n",
       "      <td>1199</td>\n",
       "      <td>1199</td>\n",
       "      <td>1199</td>\n",
       "      <td>1199</td>\n",
       "      <td>1199</td>\n",
       "      <td>1199</td>\n",
       "      <td>1199</td>\n",
       "    </tr>\n",
       "  </tbody>\n",
       "</table>\n",
       "</div>"
      ],
      "text/plain": [
       "                     course_id  course_title   url  is_paid  price  \\\n",
       "subject                                                              \n",
       "Business Finance          1191          1191  1191     1191   1191   \n",
       "Graphic Design             602           602   602      602    602   \n",
       "Musical Instruments        680           680   680      680    680   \n",
       "Web Development           1199          1199  1199     1199   1199   \n",
       "\n",
       "                     num_subscribers  num_reviews  num_lectures  level  \\\n",
       "subject                                                                  \n",
       "Business Finance                1191         1191          1191   1191   \n",
       "Graphic Design                   602          602           602    602   \n",
       "Musical Instruments              680          680           680    680   \n",
       "Web Development                 1199         1199          1199   1199   \n",
       "\n",
       "                     content_duration  published_timestamp  \n",
       "subject                                                     \n",
       "Business Finance                 1191                 1191  \n",
       "Graphic Design                    602                  602  \n",
       "Musical Instruments               680                  680  \n",
       "Web Development                  1199                 1199  "
      ]
     },
     "execution_count": 18,
     "metadata": {},
     "output_type": "execute_result"
    }
   ],
   "source": [
    "data.groupby('subject').count()"
   ]
  },
  {
   "cell_type": "code",
   "execution_count": 19,
   "id": "f1c844e7",
   "metadata": {},
   "outputs": [
    {
     "data": {
      "text/plain": [
       "Web Development        1199\n",
       "Business Finance       1191\n",
       "Musical Instruments     680\n",
       "Graphic Design          602\n",
       "Name: subject, dtype: int64"
      ]
     },
     "execution_count": 19,
     "metadata": {},
     "output_type": "execute_result"
    }
   ],
   "source": [
    "data[\"subject\"].value_counts()"
   ]
  },
  {
   "cell_type": "code",
   "execution_count": 20,
   "id": "719e80c3",
   "metadata": {},
   "outputs": [
    {
     "name": "stderr",
     "output_type": "stream",
     "text": [
      "E:\\TSPSC\\anaconda\\lib\\site-packages\\seaborn\\_decorators.py:36: FutureWarning: Pass the following variable as a keyword arg: x. From version 0.12, the only valid positional argument will be `data`, and passing other arguments without an explicit keyword will result in an error or misinterpretation.\n",
      "  warnings.warn(\n"
     ]
    },
    {
     "data": {
      "image/png": "[encoded data removed]",
      "text/plain": [
       "<Figure size 432x288 with 1 Axes>"
      ]
     },
     "metadata": {
      "needs_background": "light"
     },
     "output_type": "display_data"
    }
   ],
   "source": [
    "sns.countplot(data['subject'])\n",
    "plt.xlabel(\"Subjects\",fontsize=13)\n",
    "plt.ylabel(\"no of courses\",fontsize=13)\n",
    "plt.xticks(rotation=65)\n",
    "plt.show()"
   ]
  },
  {
   "cell_type": "code",
   "execution_count": 21,
   "id": "f7817768",
   "metadata": {},
   "outputs": [
    {
     "data": {
      "text/plain": [
       "Index(['course_id', 'course_title', 'url', 'is_paid', 'price',\n",
       "       'num_subscribers', 'num_reviews', 'num_lectures', 'level',\n",
       "       'content_duration', 'published_timestamp', 'subject'],\n",
       "      dtype='object')"
      ]
     },
     "execution_count": 21,
     "metadata": {},
     "output_type": "execute_result"
    }
   ],
   "source": [
    "data.columns"
   ]
  },
  {
   "cell_type": "code",
   "execution_count": 22,
   "id": "5d55e300",
   "metadata": {},
   "outputs": [
    {
     "data": {
      "text/plain": [
       "All Levels            1925\n",
       "Beginner Level        1268\n",
       "Intermediate Level     421\n",
       "Expert Level            58\n",
       "Name: level, dtype: int64"
      ]
     },
     "execution_count": 22,
     "metadata": {},
     "output_type": "execute_result"
    }
   ],
   "source": [
    "data[\"level\"].value_counts()"
   ]
  },
  {
   "cell_type": "code",
   "execution_count": 23,
   "id": "7ba9ca8e",
   "metadata": {},
   "outputs": [
    {
     "name": "stderr",
     "output_type": "stream",
     "text": [
      "E:\\TSPSC\\anaconda\\lib\\site-packages\\seaborn\\_decorators.py:36: FutureWarning: Pass the following variable as a keyword arg: x. From version 0.12, the only valid positional argument will be `data`, and passing other arguments without an explicit keyword will result in an error or misinterpretation.\n",
      "  warnings.warn(\n"
     ]
    },
    {
     "data": {
      "image/png": "[encoded data removed]",
      "text/plain": [
       "<Figure size 432x288 with 1 Axes>"
      ]
     },
     "metadata": {
      "needs_background": "light"
     },
     "output_type": "display_data"
    }
   ],
   "source": [
    "sns.countplot(data[\"level\"])\n",
    "plt.xlabel(\"Level\",fontsize=13)\n",
    "plt.ylabel(\"No of Courses\",fontsize=13)\n",
    "plt.xticks(rotation=65)\n",
    "plt.show()"
   ]
  },
  {
   "cell_type": "code",
   "execution_count": 24,
   "id": "476532f3",
   "metadata": {},
   "outputs": [
    {
     "data": {
      "text/plain": [
       "Index(['course_id', 'course_title', 'url', 'is_paid', 'price',\n",
       "       'num_subscribers', 'num_reviews', 'num_lectures', 'level',\n",
       "       'content_duration', 'published_timestamp', 'subject'],\n",
       "      dtype='object')"
      ]
     },
     "execution_count": 24,
     "metadata": {},
     "output_type": "execute_result"
    }
   ],
   "source": [
    "data.columns"
   ]
  },
  {
   "cell_type": "code",
   "execution_count": 25,
   "id": "d5794693",
   "metadata": {},
   "outputs": [
    {
     "data": {
      "text/plain": [
       "True     3362\n",
       "False     310\n",
       "Name: is_paid, dtype: int64"
      ]
     },
     "execution_count": 25,
     "metadata": {},
     "output_type": "execute_result"
    }
   ],
   "source": [
    "data[\"is_paid\"].value_counts()"
   ]
  },
  {
   "cell_type": "code",
   "execution_count": 26,
   "id": "3c8a1c49",
   "metadata": {},
   "outputs": [
    {
     "name": "stderr",
     "output_type": "stream",
     "text": [
      "E:\\TSPSC\\anaconda\\lib\\site-packages\\seaborn\\_decorators.py:36: FutureWarning: Pass the following variable as a keyword arg: x. From version 0.12, the only valid positional argument will be `data`, and passing other arguments without an explicit keyword will result in an error or misinterpretation.\n",
      "  warnings.warn(\n"
     ]
    },
    {
     "data": {
      "image/png": "[encoded data removed]",
      "text/plain": [
       "<Figure size 432x288 with 1 Axes>"
      ]
     },
     "metadata": {
      "needs_background": "light"
     },
     "output_type": "display_data"
    }
   ],
   "source": [
    "sns.countplot(data[\"is_paid\"])\n",
    "plt.xlabel(\"is_paid\",fontsize=13)\n",
    "plt.ylabel(\"No of free and paid courses\",fontsize=13)\n",
    "plt.xticks(rotation=65)\n",
    "plt.show()"
   ]
  },
  {
   "cell_type": "code",
   "execution_count": 27,
   "id": "bd6df4ed",
   "metadata": {},
   "outputs": [
    {
     "data": {
      "text/plain": [
       "Index(['course_id', 'course_title', 'url', 'is_paid', 'price',\n",
       "       'num_subscribers', 'num_reviews', 'num_lectures', 'level',\n",
       "       'content_duration', 'published_timestamp', 'subject'],\n",
       "      dtype='object')"
      ]
     },
     "execution_count": 27,
     "metadata": {},
     "output_type": "execute_result"
    }
   ],
   "source": [
    "data.columns"
   ]
  },
  {
   "cell_type": "code",
   "execution_count": 28,
   "id": "9f1b3af8",
   "metadata": {},
   "outputs": [
    {
     "data": {
      "text/plain": [
       "is_paid\n",
       "True     3362\n",
       "False     310\n",
       "Name: num_lectures, dtype: int64"
      ]
     },
     "execution_count": 28,
     "metadata": {},
     "output_type": "execute_result"
    }
   ],
   "source": [
    "data.groupby(\"is_paid\")[\"num_lectures\"].count().sort_values(ascending=False)"
   ]
  },
  {
   "cell_type": "code",
   "execution_count": 29,
   "id": "af931344",
   "metadata": {},
   "outputs": [
    {
     "data": {
      "text/plain": [
       "is_paid\n",
       "False    11533.951613\n",
       "True      2421.270077\n",
       "Name: num_subscribers, dtype: float64"
      ]
     },
     "execution_count": 29,
     "metadata": {},
     "output_type": "execute_result"
    }
   ],
   "source": [
    "data.groupby(\"is_paid\")[\"num_subscribers\"].mean()"
   ]
  },
  {
   "cell_type": "code",
   "execution_count": 30,
   "id": "4514fa44",
   "metadata": {},
   "outputs": [
    {
     "data": {
      "text/plain": [
       "<AxesSubplot:xlabel='level', ylabel='num_subscribers'>"
      ]
     },
     "execution_count": 30,
     "metadata": {},
     "output_type": "execute_result"
    },
    {
     "data": {
      "image/png": "[encoded data removed]",
      "text/plain": [
       "<Figure size 432x288 with 1 Axes>"
      ]
     },
     "metadata": {
      "needs_background": "light"
     },
     "output_type": "display_data"
    }
   ],
   "source": [
    "sns.barplot(x=\"level\",y=\"num_subscribers\",data=data)"
   ]
  },
  {
   "cell_type": "code",
   "execution_count": 31,
   "id": "795cddef",
   "metadata": {},
   "outputs": [
    {
     "data": {
      "text/plain": [
       "Index(['course_id', 'course_title', 'url', 'is_paid', 'price',\n",
       "       'num_subscribers', 'num_reviews', 'num_lectures', 'level',\n",
       "       'content_duration', 'published_timestamp', 'subject'],\n",
       "      dtype='object')"
      ]
     },
     "execution_count": 31,
     "metadata": {},
     "output_type": "execute_result"
    }
   ],
   "source": [
    "data.columns"
   ]
  },
  {
   "cell_type": "code",
   "execution_count": 32,
   "id": "f5ff0559",
   "metadata": {},
   "outputs": [
    {
     "data": {
      "text/plain": [
       "2827    Learn HTML5 Programming From Scratch\n",
       "Name: course_title, dtype: object"
      ]
     },
     "execution_count": 32,
     "metadata": {},
     "output_type": "execute_result"
    }
   ],
   "source": [
    "data[data[\"num_subscribers\"] == max(data[\"num_subscribers\"])][\"course_title\"]"
   ]
  },
  {
   "cell_type": "code",
   "execution_count": 33,
   "id": "6d482e75",
   "metadata": {},
   "outputs": [
    {
     "data": {
      "text/plain": [
       "458                   Financial Statement Auditing Cycles\n",
       "2400    Coaching Course: Rhythm Instruction for Music ...\n",
       "2401                                4 Week Rhythm Mastery\n",
       "1236         Como Criar Logos de Sucesso - Start Designer\n",
       "1237                           Super Textos con Photoshop\n",
       "1238           Photoshop - Aprende a Transformar Imágenes\n",
       "1102     Understand Core Finance Principles in 60 Minutes\n",
       "2399    Learn Pirates of the Caribbean by Ear on the P...\n",
       "1101                    Core Financial Statement Concepts\n",
       "2402                    Tune that Sour Note on Your Piano\n",
       "Name: course_title, dtype: object"
      ]
     },
     "execution_count": 33,
     "metadata": {},
     "output_type": "execute_result"
    }
   ],
   "source": [
    "data.sort_values(by=\"num_subscribers\")[\"course_title\"].head(10)"
   ]
  },
  {
   "cell_type": "code",
   "execution_count": 34,
   "id": "7590b8ca",
   "metadata": {},
   "outputs": [
    {
     "data": {
      "text/plain": [
       "Index(['course_id', 'course_title', 'url', 'is_paid', 'price',\n",
       "       'num_subscribers', 'num_reviews', 'num_lectures', 'level',\n",
       "       'content_duration', 'published_timestamp', 'subject'],\n",
       "      dtype='object')"
      ]
     },
     "execution_count": 34,
     "metadata": {},
     "output_type": "execute_result"
    }
   ],
   "source": [
    "data.columns"
   ]
  },
  {
   "cell_type": "code",
   "execution_count": 35,
   "id": "b62b860d",
   "metadata": {},
   "outputs": [
    {
     "data": {
      "text/plain": [
       "<AxesSubplot:xlabel='subject', ylabel='num_reviews'>"
      ]
     },
     "execution_count": 35,
     "metadata": {},
     "output_type": "execute_result"
    },
    {
     "data": {
      "image/png": "[encoded data removed]",
      "text/plain": [
       "<Figure size 720x288 with 1 Axes>"
      ]
     },
     "metadata": {
      "needs_background": "light"
     },
     "output_type": "display_data"
    }
   ],
   "source": [
    "plt.figure(figsize=(10,4))\n",
    "sns.barplot(x='subject',y='num_reviews',data=data)"
   ]
  },
  {
   "cell_type": "code",
   "execution_count": 36,
   "id": "bb37d888",
   "metadata": {},
   "outputs": [
    {
     "data": {
      "text/plain": [
       "Index(['course_id', 'course_title', 'url', 'is_paid', 'price',\n",
       "       'num_subscribers', 'num_reviews', 'num_lectures', 'level',\n",
       "       'content_duration', 'published_timestamp', 'subject'],\n",
       "      dtype='object')"
      ]
     },
     "execution_count": 36,
     "metadata": {},
     "output_type": "execute_result"
    }
   ],
   "source": [
    "data.columns"
   ]
  },
  {
   "cell_type": "code",
   "execution_count": 37,
   "id": "4c25eb33",
   "metadata": {
    "scrolled": true
   },
   "outputs": [
    {
     "data": {
      "text/plain": [
       "<AxesSubplot:xlabel='price', ylabel='num_reviews'>"
      ]
     },
     "execution_count": 37,
     "metadata": {},
     "output_type": "execute_result"
    },
    {
     "data": {
      "image/png": "[encoded data removed]",
      "text/plain": [
       "<Figure size 432x288 with 1 Axes>"
      ]
     },
     "metadata": {
      "needs_background": "light"
     },
     "output_type": "display_data"
    }
   ],
   "source": [
    "sns.scatterplot(x='price',y='num_reviews',data=data)"
   ]
  },
  {
   "cell_type": "code",
   "execution_count": 38,
   "id": "39e2318e",
   "metadata": {},
   "outputs": [
    {
     "data": {
      "text/plain": [
       "Index(['course_id', 'course_title', 'url', 'is_paid', 'price',\n",
       "       'num_subscribers', 'num_reviews', 'num_lectures', 'level',\n",
       "       'content_duration', 'published_timestamp', 'subject'],\n",
       "      dtype='object')"
      ]
     },
     "execution_count": 38,
     "metadata": {},
     "output_type": "execute_result"
    }
   ],
   "source": [
    "data.columns"
   ]
  },
  {
   "cell_type": "code",
   "execution_count": 39,
   "id": "ab5bcd16",
   "metadata": {},
   "outputs": [
    {
     "data": {
      "text/plain": [
       "29"
      ]
     },
     "execution_count": 39,
     "metadata": {},
     "output_type": "execute_result"
    }
   ],
   "source": [
    "data['course_title'].str.contains(\"python\",case=False).sum()"
   ]
  },
  {
   "cell_type": "code",
   "execution_count": 40,
   "id": "f8b71964",
   "metadata": {},
   "outputs": [
    {
     "data": {
      "text/plain": [
       "Index(['course_id', 'course_title', 'url', 'is_paid', 'price',\n",
       "       'num_subscribers', 'num_reviews', 'num_lectures', 'level',\n",
       "       'content_duration', 'published_timestamp', 'subject'],\n",
       "      dtype='object')"
      ]
     },
     "execution_count": 40,
     "metadata": {},
     "output_type": "execute_result"
    }
   ],
   "source": [
    "data.columns"
   ]
  },
  {
   "cell_type": "code",
   "execution_count": 41,
   "id": "63b66a8f",
   "metadata": {},
   "outputs": [],
   "source": [
    "python = data[data['course_title'].str.contains(\"python\",case=False)].sort_values(by=\"num_subscribers\",ascending=False).head(10)"
   ]
  },
  {
   "cell_type": "code",
   "execution_count": 42,
   "id": "763c61de",
   "metadata": {},
   "outputs": [
    {
     "data": {
      "text/plain": [
       "<AxesSubplot:xlabel='num_subscribers', ylabel='course_title'>"
      ]
     },
     "execution_count": 42,
     "metadata": {},
     "output_type": "execute_result"
    },
    {
     "data": {
      "image/png": "[encoded data removed]",
      "text/plain": [
       "<Figure size 432x288 with 1 Axes>"
      ]
     },
     "metadata": {
      "needs_background": "light"
     },
     "output_type": "display_data"
    }
   ],
   "source": [
    "sns.barplot(x=\"num_subscribers\",y=\"course_title\",data=python)"
   ]
  },
  {
   "cell_type": "code",
   "execution_count": 43,
   "id": "246d9c38",
   "metadata": {},
   "outputs": [
    {
     "data": {
      "text/plain": [
       "Index(['course_id', 'course_title', 'url', 'is_paid', 'price',\n",
       "       'num_subscribers', 'num_reviews', 'num_lectures', 'level',\n",
       "       'content_duration', 'published_timestamp', 'subject'],\n",
       "      dtype='object')"
      ]
     },
     "execution_count": 43,
     "metadata": {},
     "output_type": "execute_result"
    }
   ],
   "source": [
    "data.columns"
   ]
  },
  {
   "cell_type": "code",
   "execution_count": 44,
   "id": "fa00c519",
   "metadata": {},
   "outputs": [
    {
     "name": "stderr",
     "output_type": "stream",
     "text": [
      "C:\\Users\\danny\\AppData\\Local\\Temp\\ipykernel_19816\\825252935.py:1: SettingWithCopyWarning: \n",
      "A value is trying to be set on a copy of a slice from a DataFrame.\n",
      "Try using .loc[row_indexer,col_indexer] = value instead\n",
      "\n",
      "See the caveats in the documentation: https://pandas.pydata.org/pandas-docs/stable/user_guide/indexing.html#returning-a-view-versus-a-copy\n",
      "  data[\"Year\"] = data['published_timestamp'].dt.year\n"
     ]
    }
   ],
   "source": [
    "data[\"Year\"] = data['published_timestamp'].dt.year"
   ]
  },
  {
   "cell_type": "code",
   "execution_count": 45,
   "id": "818786d7",
   "metadata": {},
   "outputs": [
    {
     "data": {
      "text/plain": [
       "Year  subject            \n",
       "2011  Web Development          5\n",
       "2012  Web Development         19\n",
       "      Graphic Design          10\n",
       "      Musical Instruments     10\n",
       "      Business Finance         6\n",
       "2013  Business Finance        84\n",
       "      Web Development         55\n",
       "      Musical Instruments     39\n",
       "      Graphic Design          23\n",
       "2014  Business Finance       192\n",
       "      Musical Instruments    120\n",
       "      Web Development        113\n",
       "      Graphic Design          65\n",
       "2015  Business Finance       339\n",
       "      Web Development        336\n",
       "      Musical Instruments    171\n",
       "      Graphic Design         168\n",
       "2016  Web Development        448\n",
       "      Business Finance       347\n",
       "      Musical Instruments    228\n",
       "      Graphic Design         181\n",
       "2017  Business Finance       223\n",
       "      Web Development        223\n",
       "      Graphic Design         155\n",
       "      Musical Instruments    112\n",
       "Name: subject, dtype: int64"
      ]
     },
     "execution_count": 45,
     "metadata": {},
     "output_type": "execute_result"
    }
   ],
   "source": [
    "data.groupby('Year')[\"subject\"].value_counts()"
   ]
  },
  {
   "cell_type": "code",
   "execution_count": 46,
   "id": "b63171bb",
   "metadata": {},
   "outputs": [
    {
     "data": {
      "text/html": [
       "<div>\n",
       "<style scoped>\n",
       "    .dataframe tbody tr th:only-of-type {\n",
       "        vertical-align: middle;\n",
       "    }\n",
       "\n",
       "    .dataframe tbody tr th {\n",
       "        vertical-align: top;\n",
       "    }\n",
       "\n",
       "    .dataframe thead th {\n",
       "        text-align: right;\n",
       "    }\n",
       "</style>\n",
       "<table border=\"1\" class=\"dataframe\">\n",
       "  <thead>\n",
       "    <tr style=\"text-align: right;\">\n",
       "      <th></th>\n",
       "      <th>course_id</th>\n",
       "      <th>is_paid</th>\n",
       "      <th>price</th>\n",
       "      <th>num_subscribers</th>\n",
       "      <th>num_reviews</th>\n",
       "      <th>num_lectures</th>\n",
       "      <th>content_duration</th>\n",
       "      <th>Year</th>\n",
       "    </tr>\n",
       "  </thead>\n",
       "  <tbody>\n",
       "    <tr>\n",
       "      <th>course_id</th>\n",
       "      <td>1.000000</td>\n",
       "      <td>-0.013765</td>\n",
       "      <td>0.143062</td>\n",
       "      <td>-0.166094</td>\n",
       "      <td>-0.058310</td>\n",
       "      <td>-0.024735</td>\n",
       "      <td>-0.057236</td>\n",
       "      <td>0.933027</td>\n",
       "    </tr>\n",
       "    <tr>\n",
       "      <th>is_paid</th>\n",
       "      <td>-0.013765</td>\n",
       "      <td>1.000000</td>\n",
       "      <td>0.328910</td>\n",
       "      <td>-0.267056</td>\n",
       "      <td>-0.087445</td>\n",
       "      <td>0.112788</td>\n",
       "      <td>0.094594</td>\n",
       "      <td>-0.017662</td>\n",
       "    </tr>\n",
       "    <tr>\n",
       "      <th>price</th>\n",
       "      <td>0.143062</td>\n",
       "      <td>0.328910</td>\n",
       "      <td>1.000000</td>\n",
       "      <td>0.050436</td>\n",
       "      <td>0.113568</td>\n",
       "      <td>0.329944</td>\n",
       "      <td>0.293200</td>\n",
       "      <td>0.133654</td>\n",
       "    </tr>\n",
       "    <tr>\n",
       "      <th>num_subscribers</th>\n",
       "      <td>-0.166094</td>\n",
       "      <td>-0.267056</td>\n",
       "      <td>0.050436</td>\n",
       "      <td>1.000000</td>\n",
       "      <td>0.651070</td>\n",
       "      <td>0.158351</td>\n",
       "      <td>0.162118</td>\n",
       "      <td>-0.182697</td>\n",
       "    </tr>\n",
       "    <tr>\n",
       "      <th>num_reviews</th>\n",
       "      <td>-0.058310</td>\n",
       "      <td>-0.087445</td>\n",
       "      <td>0.113568</td>\n",
       "      <td>0.651070</td>\n",
       "      <td>1.000000</td>\n",
       "      <td>0.243019</td>\n",
       "      <td>0.228852</td>\n",
       "      <td>-0.053061</td>\n",
       "    </tr>\n",
       "    <tr>\n",
       "      <th>num_lectures</th>\n",
       "      <td>-0.024735</td>\n",
       "      <td>0.112788</td>\n",
       "      <td>0.329944</td>\n",
       "      <td>0.158351</td>\n",
       "      <td>0.243019</td>\n",
       "      <td>1.000000</td>\n",
       "      <td>0.801624</td>\n",
       "      <td>-0.025243</td>\n",
       "    </tr>\n",
       "    <tr>\n",
       "      <th>content_duration</th>\n",
       "      <td>-0.057236</td>\n",
       "      <td>0.094594</td>\n",
       "      <td>0.293200</td>\n",
       "      <td>0.162118</td>\n",
       "      <td>0.228852</td>\n",
       "      <td>0.801624</td>\n",
       "      <td>1.000000</td>\n",
       "      <td>-0.058824</td>\n",
       "    </tr>\n",
       "    <tr>\n",
       "      <th>Year</th>\n",
       "      <td>0.933027</td>\n",
       "      <td>-0.017662</td>\n",
       "      <td>0.133654</td>\n",
       "      <td>-0.182697</td>\n",
       "      <td>-0.053061</td>\n",
       "      <td>-0.025243</td>\n",
       "      <td>-0.058824</td>\n",
       "      <td>1.000000</td>\n",
       "    </tr>\n",
       "  </tbody>\n",
       "</table>\n",
       "</div>"
      ],
      "text/plain": [
       "                  course_id   is_paid     price  num_subscribers  num_reviews  \\\n",
       "course_id          1.000000 -0.013765  0.143062        -0.166094    -0.058310   \n",
       "is_paid           -0.013765  1.000000  0.328910        -0.267056    -0.087445   \n",
       "price              0.143062  0.328910  1.000000         0.050436     0.113568   \n",
       "num_subscribers   -0.166094 -0.267056  0.050436         1.000000     0.651070   \n",
       "num_reviews       -0.058310 -0.087445  0.113568         0.651070     1.000000   \n",
       "num_lectures      -0.024735  0.112788  0.329944         0.158351     0.243019   \n",
       "content_duration  -0.057236  0.094594  0.293200         0.162118     0.228852   \n",
       "Year               0.933027 -0.017662  0.133654        -0.182697    -0.053061   \n",
       "\n",
       "                  num_lectures  content_duration      Year  \n",
       "course_id            -0.024735         -0.057236  0.933027  \n",
       "is_paid               0.112788          0.094594 -0.017662  \n",
       "price                 0.329944          0.293200  0.133654  \n",
       "num_subscribers       0.158351          0.162118 -0.182697  \n",
       "num_reviews           0.243019          0.228852 -0.053061  \n",
       "num_lectures          1.000000          0.801624 -0.025243  \n",
       "content_duration      0.801624          1.000000 -0.058824  \n",
       "Year                 -0.025243         -0.058824  1.000000  "
      ]
     },
     "execution_count": 46,
     "metadata": {},
     "output_type": "execute_result"
    }
   ],
   "source": [
    "data.corr()"
   ]
  },
  {
   "cell_type": "code",
   "execution_count": null,
   "id": "b142aa7d",
   "metadata": {},
   "outputs": [],
   "source": []
  }
 ],
 "metadata": {
  "kernelspec": {
   "display_name": "Python 3 (ipykernel)",
   "language": "python",
   "name": "python3"
  },
  "language_info": {
   "codemirror_mode": {
    "name": "ipython",
    "version": 3
   },
   "file_extension": ".py",
   "mimetype": "text/x-python",
   "name": "python",
   "nbconvert_exporter": "python",
   "pygments_lexer": "ipython3",
   "version": "3.9.12"
  }
 },
 "nbformat": 4,
 "nbformat_minor": 5
}
